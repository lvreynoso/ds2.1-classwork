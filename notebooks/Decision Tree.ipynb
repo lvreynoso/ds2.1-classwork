{
 "cells": [
  {
   "cell_type": "code",
   "execution_count": 71,
   "metadata": {},
   "outputs": [
    {
     "name": "stdout",
     "output_type": "stream",
     "text": [
      "1.0\n"
     ]
    }
   ],
   "source": [
    "import math\n",
    "import numpy as np\n",
    "\n",
    "# Entropy of a coin\n",
    "\n",
    "e_coin_1 = -(0.5*math.log(0.5,2) + 0.5*math.log(0.5,2))\n",
    "print(e_coin_1)"
   ]
  },
  {
   "cell_type": "code",
   "execution_count": 72,
   "metadata": {},
   "outputs": [
    {
     "name": "stdout",
     "output_type": "stream",
     "text": [
      "0.4689955935892812\n"
     ]
    }
   ],
   "source": [
    "e_coin_2 = -(0.9*math.log(0.9,2) + 0.1*math.log(0.1,2))\n",
    "print(e_coin_2)"
   ]
  },
  {
   "cell_type": "code",
   "execution_count": 73,
   "metadata": {},
   "outputs": [],
   "source": [
    "def entropy_bin(prob_a, prob_b):\n",
    "    return -(prob_a*math.log(prob_a,2) + prob_b*math.log(prob_b,2))"
   ]
  },
  {
   "cell_type": "code",
   "execution_count": 74,
   "metadata": {},
   "outputs": [
    {
     "data": {
      "text/plain": [
       "0.4689955935892812"
      ]
     },
     "execution_count": 74,
     "metadata": {},
     "output_type": "execute_result"
    }
   ],
   "source": [
    "entropy_bin(0.9, 0.1)"
   ]
  },
  {
   "cell_type": "code",
   "execution_count": 75,
   "metadata": {},
   "outputs": [],
   "source": [
    "def entropy(p):\n",
    "    H = np.array([-i*np.log2(i) for i in p]).sum()\n",
    "    return H"
   ]
  },
  {
   "cell_type": "code",
   "execution_count": 76,
   "metadata": {},
   "outputs": [
    {
     "data": {
      "text/plain": [
       "1.0"
      ]
     },
     "execution_count": 76,
     "metadata": {},
     "output_type": "execute_result"
    }
   ],
   "source": [
    "p = [.5, .5]\n",
    "entropy(p)"
   ]
  },
  {
   "cell_type": "code",
   "execution_count": 77,
   "metadata": {},
   "outputs": [
    {
     "data": {
      "text/plain": [
       "0.9402859586706311"
      ]
     },
     "execution_count": 77,
     "metadata": {},
     "output_type": "execute_result"
    }
   ],
   "source": [
    "tennis = [(5/14), (9/14)]\n",
    "entropy(tennis)"
   ]
  },
  {
   "cell_type": "code",
   "execution_count": 78,
   "metadata": {},
   "outputs": [
    {
     "name": "stdout",
     "output_type": "stream",
     "text": [
      "     outlook temperature humidity    wind play\n",
      "1      Sunny         Hot     High    Weak   No\n",
      "2      Sunny         Hot     High  Strong   No\n",
      "3   Overcast         Hot     High    Weak  Yes\n",
      "4       Rain        Mild     High    Weak  Yes\n",
      "5       Rain        Cool   Normal    Weak  Yes\n",
      "6       Rain        Cool   Normal  Strong   No\n",
      "7   Overcast        Cool   Normal  Strong  Yes\n",
      "8      Sunny        Mild     High    Weak   No\n",
      "9      Sunny        Cool   Normal    Weak  Yes\n",
      "10      Rain        Mild   Normal    Weak  Yes\n",
      "11     Sunny        Mild   Normal  Strong  Yes\n",
      "12  Overcast        Mild     High  Strong  Yes\n",
      "13  Overcast         Hot   Normal    Weak  Yes\n",
      "14      Rain        Mild     High  Strong   No\n"
     ]
    }
   ],
   "source": [
    "import pandas as pd\n",
    "\n",
    "data = pd.read_csv(\"../datasets/tennis.txt\", delimiter=\"\\t\", header=None, names=['outlook', 'temperature', 'humidity', 'wind', 'play'])\n",
    "print(data)"
   ]
  },
  {
   "cell_type": "code",
   "execution_count": 79,
   "metadata": {},
   "outputs": [
    {
     "data": {
      "text/plain": [
       "Yes    9\n",
       "No     5\n",
       "Name: play, dtype: int64"
      ]
     },
     "execution_count": 79,
     "metadata": {},
     "output_type": "execute_result"
    }
   ],
   "source": [
    "data['play'].value_counts()"
   ]
  },
  {
   "cell_type": "code",
   "execution_count": 80,
   "metadata": {},
   "outputs": [
    {
     "data": {
      "text/plain": [
       "Yes    6\n",
       "No     2\n",
       "Name: play, dtype: int64"
      ]
     },
     "execution_count": 80,
     "metadata": {},
     "output_type": "execute_result"
    }
   ],
   "source": [
    "data[data['wind'] == 'Weak']['play'].value_counts()"
   ]
  },
  {
   "cell_type": "code",
   "execution_count": 81,
   "metadata": {},
   "outputs": [
    {
     "data": {
      "text/plain": [
       "0.8112781244591328"
      ]
     },
     "execution_count": 81,
     "metadata": {},
     "output_type": "execute_result"
    }
   ],
   "source": [
    "entropy([(6/8), (2/8)])"
   ]
  },
  {
   "cell_type": "code",
   "execution_count": 82,
   "metadata": {},
   "outputs": [
    {
     "data": {
      "text/plain": [
       "0.9402859586706311"
      ]
     },
     "execution_count": 82,
     "metadata": {},
     "output_type": "execute_result"
    }
   ],
   "source": [
    "entropy([(9/14), (5/14)])"
   ]
  },
  {
   "cell_type": "code",
   "execution_count": 83,
   "metadata": {},
   "outputs": [
    {
     "data": {
      "text/plain": [
       "No     3\n",
       "Yes    3\n",
       "Name: play, dtype: int64"
      ]
     },
     "execution_count": 83,
     "metadata": {},
     "output_type": "execute_result"
    }
   ],
   "source": [
    "data[data['wind'] == 'Strong']['play'].value_counts()"
   ]
  },
  {
   "cell_type": "code",
   "execution_count": 84,
   "metadata": {},
   "outputs": [
    {
     "data": {
      "text/plain": [
       "Weak      8\n",
       "Strong    6\n",
       "Name: wind, dtype: int64"
      ]
     },
     "execution_count": 84,
     "metadata": {},
     "output_type": "execute_result"
    }
   ],
   "source": [
    "data['wind'].value_counts()"
   ]
  },
  {
   "cell_type": "code",
   "execution_count": 85,
   "metadata": {},
   "outputs": [
    {
     "data": {
      "text/plain": [
       "0.048127030408269544"
      ]
     },
     "execution_count": 85,
     "metadata": {},
     "output_type": "execute_result"
    }
   ],
   "source": [
    "# Information gained = Entropy of the decision - prob(weak wind) * entropy(decision given weak wind) - prob(strong wind) * entropy(decision given strong wind)\n",
    "\n",
    "entropy([(9/14), (5/14)]) - (8/14)*entropy([(6/8), (2/8)]) - (6/14)*1"
   ]
  },
  {
   "cell_type": "code",
   "execution_count": 99,
   "metadata": {},
   "outputs": [],
   "source": [
    "# The root of the decision tree will be the column where the most information is gained\n",
    "\n",
    "def info_gain(df, feature, decision):\n",
    "    conditions = []\n",
    "    total = df[feature].count()\n",
    "    value_counts = df[feature].value_counts()\n",
    "    for index, count in enumerate(value_counts):\n",
    "        prob = count / total\n",
    "        entropy_counts = df[df[feature] == value_counts.index[index]][decision].value_counts()\n",
    "        entropy_values = [(x / entropy_counts.sum()) for x in entropy_counts]\n",
    "        dec_entropy = np.array([-i*np.log2(i) for i in entropy_values]).sum()\n",
    "        conditions.append([prob, dec_entropy])\n",
    "    decision_values = df[decision].value_counts()\n",
    "    decision_entropy = entropy([(decision_values[0] / total), (decision_values[1] / total)])\n",
    "    info_gain = decision_entropy\n",
    "    for prob, dec_entropy in conditions:\n",
    "        info_gain -= prob * dec_entropy\n",
    "    return info_gain"
   ]
  },
  {
   "cell_type": "code",
   "execution_count": 100,
   "metadata": {},
   "outputs": [
    {
     "data": {
      "text/plain": [
       "'Weak'"
      ]
     },
     "execution_count": 100,
     "metadata": {},
     "output_type": "execute_result"
    }
   ],
   "source": [
    "wind = data['wind'].value_counts()\n",
    "wind.index[0]"
   ]
  },
  {
   "cell_type": "code",
   "execution_count": 101,
   "metadata": {},
   "outputs": [
    {
     "data": {
      "text/plain": [
       "0.048127030408269544"
      ]
     },
     "execution_count": 101,
     "metadata": {},
     "output_type": "execute_result"
    }
   ],
   "source": [
    "info_gain(data, 'wind', 'play')"
   ]
  },
  {
   "cell_type": "code",
   "execution_count": 102,
   "metadata": {},
   "outputs": [
    {
     "name": "stdout",
     "output_type": "stream",
     "text": [
      "    outlook  temperature  humidity  wind  play\n",
      "1         2            1         0     1     0\n",
      "2         2            1         0     0     0\n",
      "3         0            1         0     1     1\n",
      "4         1            2         0     1     1\n",
      "5         1            0         1     1     1\n",
      "6         1            0         1     0     0\n",
      "7         0            0         1     0     1\n",
      "8         2            2         0     1     0\n",
      "9         2            0         1     1     1\n",
      "10        1            2         1     1     1\n",
      "11        2            2         1     0     1\n",
      "12        0            2         0     0     1\n",
      "13        0            1         1     1     1\n",
      "14        1            2         0     0     0\n"
     ]
    },
    {
     "data": {
      "text/plain": [
       "True"
      ]
     },
     "execution_count": 102,
     "metadata": {},
     "output_type": "execute_result"
    }
   ],
   "source": [
    "from sklearn.tree import DecisionTreeClassifier\n",
    "from sklearn import preprocessing\n",
    "from sklearn.tree import export_graphviz\n",
    "import pydotplus\n",
    "\n",
    "data_encoded = data.apply(preprocessing.LabelEncoder().fit_transform)\n",
    "print(data_encoded)\n",
    "\n",
    "#\n",
    "clf = DecisionTreeClassifier(criterion='entropy', max_depth=3)\n",
    "\n",
    "# one_hot_data = pd.get_dummies(data[['a', 'b', 'c', 'd']], drop_first=True)\n",
    "# print(one_hot_data)\n",
    "clf.fit(data_encoded[['outlook', 'temperature', 'humidity', 'wind']], data_encoded['play'])\n",
    "\n",
    "\n",
    "dot_data = export_graphviz(clf, out_file=None, feature_names=['Outlook', 'Temp.', 'Humidity', 'Wind'])\n",
    "\n",
    "# Draw graph\n",
    "graph = pydotplus.graph_from_dot_data(dot_data)\n",
    "graph.write_png('tennis_tree.png')"
   ]
  },
  {
   "cell_type": "code",
   "execution_count": null,
   "metadata": {},
   "outputs": [],
   "source": []
  }
 ],
 "metadata": {
  "kernelspec": {
   "display_name": "Python 3",
   "language": "python",
   "name": "python3"
  },
  "language_info": {
   "codemirror_mode": {
    "name": "ipython",
    "version": 3
   },
   "file_extension": ".py",
   "mimetype": "text/x-python",
   "name": "python",
   "nbconvert_exporter": "python",
   "pygments_lexer": "ipython3",
   "version": "3.7.3"
  }
 },
 "nbformat": 4,
 "nbformat_minor": 2
}
